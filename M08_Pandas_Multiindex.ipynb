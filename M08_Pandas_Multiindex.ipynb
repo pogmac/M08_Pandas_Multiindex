{
 "cells": [
  {
   "cell_type": "code",
   "execution_count": 15,
   "id": "255d9d43",
   "metadata": {},
   "outputs": [],
   "source": [
    "###############################################\n",
    "#####    08    Introduction to  Pandas   ######\n",
    "#####           08_01 Series             ######\n",
    "##           8.1.7 Mutliindex                ## \n",
    "###############################################"
   ]
  },
  {
   "cell_type": "code",
   "execution_count": 87,
   "id": "10e810df",
   "metadata": {},
   "outputs": [],
   "source": [
    "# Libraries import\n",
    "import numpy as np \n",
    "import pandas as pd "
   ]
  },
  {
   "cell_type": "code",
   "execution_count": 88,
   "id": "1233ff69",
   "metadata": {},
   "outputs": [],
   "source": [
    "labels  = ['Student A', 'Student B', 'Student C', 'Student D']"
   ]
  },
  {
   "cell_type": "code",
   "execution_count": 89,
   "id": "fecf7296",
   "metadata": {},
   "outputs": [],
   "source": [
    "#Ćwiczenie\n",
    "#Do tabeli przypisanej do zmiennej df dodaj kolumny: e4, e5, e6. Niech wektory \n",
    "#tych kolumn odzwierciedlają wyniki z kolejnych egzaminów w drugim semestrze \n",
    "#Studentów A, B, C oraz D. Wyniki tych egzaminów niech będą losowane z liczb\n",
    "#całkowitych o zakresie 1-100 włącznie. Następnie usuń kolumnę semester1. \n",
    "#Po wykonaniu tych operacji stwórz indeks hierarchiczny dla kolumn tabeli, \n",
    "#tak aby jego najwyższym rzędem było oznaczenie semestru, w którym napisany \n",
    "#był dany egzamin."
   ]
  },
  {
   "cell_type": "code",
   "execution_count": 90,
   "id": "f36452d2",
   "metadata": {},
   "outputs": [],
   "source": [
    "exam1 = [89,85,93,83]\n",
    "exam2 = [74,56,44,92]\n",
    "exam3=[67,59,79,84]\n",
    "df = pd.DataFrame({'e1':exam1, 'e2':exam2, 'e3':exam3}, index=labels)\n",
    "df['semester1'] = df['e1']+df['e2']+df['e3']"
   ]
  },
  {
   "cell_type": "code",
   "execution_count": 91,
   "id": "9a63202c",
   "metadata": {},
   "outputs": [],
   "source": [
    "df['e4'] = np.random.randint(100, size=4,dtype=int)\n",
    "df['e5'] = np.random.randint(100, size=4,dtype=int)\n",
    "df['e6'] = np.random.randint(100, size=4,dtype=int)"
   ]
  },
  {
   "cell_type": "code",
   "execution_count": 92,
   "id": "241bf9cd",
   "metadata": {},
   "outputs": [],
   "source": [
    "df.drop('semester1', axis =1, inplace = True)"
   ]
  },
  {
   "cell_type": "code",
   "execution_count": 93,
   "id": "199d400d",
   "metadata": {},
   "outputs": [
    {
     "data": {
      "text/html": [
       "<div>\n",
       "<style scoped>\n",
       "    .dataframe tbody tr th:only-of-type {\n",
       "        vertical-align: middle;\n",
       "    }\n",
       "\n",
       "    .dataframe tbody tr th {\n",
       "        vertical-align: top;\n",
       "    }\n",
       "\n",
       "    .dataframe thead th {\n",
       "        text-align: right;\n",
       "    }\n",
       "</style>\n",
       "<table border=\"1\" class=\"dataframe\">\n",
       "  <thead>\n",
       "    <tr style=\"text-align: right;\">\n",
       "      <th></th>\n",
       "      <th>e1</th>\n",
       "      <th>e2</th>\n",
       "      <th>e3</th>\n",
       "      <th>e4</th>\n",
       "      <th>e5</th>\n",
       "      <th>e6</th>\n",
       "    </tr>\n",
       "  </thead>\n",
       "  <tbody>\n",
       "    <tr>\n",
       "      <th>Student A</th>\n",
       "      <td>89</td>\n",
       "      <td>74</td>\n",
       "      <td>67</td>\n",
       "      <td>0</td>\n",
       "      <td>99</td>\n",
       "      <td>61</td>\n",
       "    </tr>\n",
       "    <tr>\n",
       "      <th>Student B</th>\n",
       "      <td>85</td>\n",
       "      <td>56</td>\n",
       "      <td>59</td>\n",
       "      <td>42</td>\n",
       "      <td>66</td>\n",
       "      <td>33</td>\n",
       "    </tr>\n",
       "    <tr>\n",
       "      <th>Student C</th>\n",
       "      <td>93</td>\n",
       "      <td>44</td>\n",
       "      <td>79</td>\n",
       "      <td>86</td>\n",
       "      <td>93</td>\n",
       "      <td>56</td>\n",
       "    </tr>\n",
       "    <tr>\n",
       "      <th>Student D</th>\n",
       "      <td>83</td>\n",
       "      <td>92</td>\n",
       "      <td>84</td>\n",
       "      <td>74</td>\n",
       "      <td>71</td>\n",
       "      <td>19</td>\n",
       "    </tr>\n",
       "  </tbody>\n",
       "</table>\n",
       "</div>"
      ],
      "text/plain": [
       "           e1  e2  e3  e4  e5  e6\n",
       "Student A  89  74  67   0  99  61\n",
       "Student B  85  56  59  42  66  33\n",
       "Student C  93  44  79  86  93  56\n",
       "Student D  83  92  84  74  71  19"
      ]
     },
     "execution_count": 93,
     "metadata": {},
     "output_type": "execute_result"
    }
   ],
   "source": [
    "df"
   ]
  },
  {
   "cell_type": "code",
   "execution_count": 94,
   "id": "f63518dd",
   "metadata": {},
   "outputs": [
    {
     "data": {
      "text/plain": [
       "MultiIndex([('Sem1', 'e1'),\n",
       "            ('Sem1', 'e2'),\n",
       "            ('Sem1', 'e3'),\n",
       "            ('Sem2', 'e4'),\n",
       "            ('Sem2', 'e5'),\n",
       "            ('Sem2', 'e6')],\n",
       "           names=['Semester', 'Exam'])"
      ]
     },
     "execution_count": 94,
     "metadata": {},
     "output_type": "execute_result"
    }
   ],
   "source": [
    "micolumns = pd.MultiIndex.from_tuples(\n",
    "    [(\"Sem1\",\"e1\"),(\"Sem1\",\"e2\"),(\"Sem1\",\"e3\"),(\"Sem2\",\"e4\"),(\"Sem2\",\"e5\"),(\"Sem2\",\"e6\")], names=[\"Semester\",\"Exam\"]\n",
    ")\n",
    "micolumns"
   ]
  },
  {
   "cell_type": "code",
   "execution_count": 95,
   "id": "1505854c",
   "metadata": {},
   "outputs": [
    {
     "name": "stdout",
     "output_type": "stream",
     "text": [
      "Semester  Sem1         Sem2        \n",
      "Exam        e1  e2  e3   e4  e5  e6\n",
      "Student A  NaN NaN NaN  NaN NaN NaN\n",
      "Student B  NaN NaN NaN  NaN NaN NaN\n",
      "Student C  NaN NaN NaN  NaN NaN NaN\n",
      "Student D  NaN NaN NaN  NaN NaN NaN\n"
     ]
    }
   ],
   "source": [
    "dfmi = pd.DataFrame(df,columns = micolumns)\n",
    "print(dfmi)"
   ]
  },
  {
   "cell_type": "code",
   "execution_count": 96,
   "id": "27545064",
   "metadata": {},
   "outputs": [],
   "source": [
    "df.reset_index(inplace = True) # Znalazłem na necie poradę, że w przypadku NaN może pomóc reset indeksu "
   ]
  },
  {
   "cell_type": "code",
   "execution_count": 97,
   "id": "c1016395",
   "metadata": {},
   "outputs": [],
   "source": [
    "df.drop('index',axis = 1, inplace = True)"
   ]
  },
  {
   "cell_type": "code",
   "execution_count": 98,
   "id": "616ea108",
   "metadata": {},
   "outputs": [
    {
     "data": {
      "text/html": [
       "<div>\n",
       "<style scoped>\n",
       "    .dataframe tbody tr th:only-of-type {\n",
       "        vertical-align: middle;\n",
       "    }\n",
       "\n",
       "    .dataframe tbody tr th {\n",
       "        vertical-align: top;\n",
       "    }\n",
       "\n",
       "    .dataframe thead th {\n",
       "        text-align: right;\n",
       "    }\n",
       "</style>\n",
       "<table border=\"1\" class=\"dataframe\">\n",
       "  <thead>\n",
       "    <tr style=\"text-align: right;\">\n",
       "      <th></th>\n",
       "      <th>e1</th>\n",
       "      <th>e2</th>\n",
       "      <th>e3</th>\n",
       "      <th>e4</th>\n",
       "      <th>e5</th>\n",
       "      <th>e6</th>\n",
       "    </tr>\n",
       "  </thead>\n",
       "  <tbody>\n",
       "    <tr>\n",
       "      <th>0</th>\n",
       "      <td>89</td>\n",
       "      <td>74</td>\n",
       "      <td>67</td>\n",
       "      <td>0</td>\n",
       "      <td>99</td>\n",
       "      <td>61</td>\n",
       "    </tr>\n",
       "    <tr>\n",
       "      <th>1</th>\n",
       "      <td>85</td>\n",
       "      <td>56</td>\n",
       "      <td>59</td>\n",
       "      <td>42</td>\n",
       "      <td>66</td>\n",
       "      <td>33</td>\n",
       "    </tr>\n",
       "    <tr>\n",
       "      <th>2</th>\n",
       "      <td>93</td>\n",
       "      <td>44</td>\n",
       "      <td>79</td>\n",
       "      <td>86</td>\n",
       "      <td>93</td>\n",
       "      <td>56</td>\n",
       "    </tr>\n",
       "    <tr>\n",
       "      <th>3</th>\n",
       "      <td>83</td>\n",
       "      <td>92</td>\n",
       "      <td>84</td>\n",
       "      <td>74</td>\n",
       "      <td>71</td>\n",
       "      <td>19</td>\n",
       "    </tr>\n",
       "  </tbody>\n",
       "</table>\n",
       "</div>"
      ],
      "text/plain": [
       "   e1  e2  e3  e4  e5  e6\n",
       "0  89  74  67   0  99  61\n",
       "1  85  56  59  42  66  33\n",
       "2  93  44  79  86  93  56\n",
       "3  83  92  84  74  71  19"
      ]
     },
     "execution_count": 98,
     "metadata": {},
     "output_type": "execute_result"
    }
   ],
   "source": [
    "df"
   ]
  },
  {
   "cell_type": "code",
   "execution_count": 99,
   "id": "5ed30c89",
   "metadata": {},
   "outputs": [
    {
     "name": "stdout",
     "output_type": "stream",
     "text": [
      "Semester Sem1         Sem2        \n",
      "Exam       e1  e2  e3   e4  e5  e6\n",
      "0         NaN NaN NaN  NaN NaN NaN\n",
      "1         NaN NaN NaN  NaN NaN NaN\n",
      "2         NaN NaN NaN  NaN NaN NaN\n",
      "3         NaN NaN NaN  NaN NaN NaN\n"
     ]
    }
   ],
   "source": [
    "dfmi = pd.DataFrame(df,columns = micolumns)\n",
    "print(dfmi)"
   ]
  }
 ],
 "metadata": {
  "kernelspec": {
   "display_name": "Python 3 (ipykernel)",
   "language": "python",
   "name": "python3"
  },
  "language_info": {
   "codemirror_mode": {
    "name": "ipython",
    "version": 3
   },
   "file_extension": ".py",
   "mimetype": "text/x-python",
   "name": "python",
   "nbconvert_exporter": "python",
   "pygments_lexer": "ipython3",
   "version": "3.9.10"
  }
 },
 "nbformat": 4,
 "nbformat_minor": 5
}
